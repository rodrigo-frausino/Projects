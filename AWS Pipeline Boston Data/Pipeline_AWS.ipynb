{
  "cells": [
    {
      "cell_type": "markdown",
      "metadata": {},
      "source": [
        "<a id=\"1\"></a>\n",
        "## <font color= #0cc754> 1. Introduction </font>\n"
      ]
    },
    {
      "cell_type": "markdown",
      "metadata": {},
      "source": [
        "This notebook is a project based on what I learned about the AWS cloud when doing an Alura course. In this project we make use of several cloud services such as AWS Glue, AWS S3, AWS EMR and others. Sometimes an image is better than a 1000 words, so the pipeline we will be using here can be summarized by the following diagram: (When looking on GitHub preview, use night theme)"
      ]
    },
    {
      "cell_type": "markdown",
      "metadata": {},
      "source": [
        "\n",
        "<p align=\"center\">\n",
        "    <img src=\"images/boston_diagram.png\" alt=\"boston_architecture\">\n",
        "</p>\n"
      ]
    },
    {
      "cell_type": "markdown",
      "metadata": {},
      "source": [
        "<a id=\"2\"></a>\n",
        "## <font color= #0cc754> 2. Library Imports </font>\n"
      ]
    },
    {
      "cell_type": "code",
      "execution_count": 26,
      "metadata": {},
      "outputs": [],
      "source": [
        "import urllib.request\n",
        "import os\n",
        "import pandas as pd\n",
        "import boto3\n",
        "from dotenv import load_dotenv\n",
        "from io import BytesIO\n",
        "import shutil\n",
        "import sys\n",
        "sys.path.append('../')\n",
        "import utils\n",
        "from utils import *\n",
        "import pyarrow.parquet as pq\n"
      ]
    },
    {
      "cell_type": "markdown",
      "metadata": {},
      "source": [
        "<a id=\"3\"></a>\n",
        "## <font color= #0cc754> 3. Data extraction and upload into S3: Bronze layer </font>\n"
      ]
    },
    {
      "cell_type": "markdown",
      "metadata": {},
      "source": [
        "First create a directory called data in the same directory as this notebook"
      ]
    },
    {
      "cell_type": "code",
      "execution_count": 1,
      "metadata": {},
      "outputs": [],
      "source": [
        "!mkdir data"
      ]
    },
    {
      "cell_type": "markdown",
      "metadata": {},
      "source": [
        "Now we create a function to extract data from the Boston Dataset https://data.boston.gov/dataset/311-service-requests"
      ]
    },
    {
      "cell_type": "code",
      "execution_count": 2,
      "metadata": {
        "id": "Xfeg6lAFcj0M"
      },
      "outputs": [],
      "source": [
        "def extract_data(url, filename):\n",
        "  try:\n",
        "    urllib.request.urlretrieve(url, filename)\n",
        "  except Exception as e:\n",
        "    print(e)\n"
      ]
    },
    {
      "cell_type": "markdown",
      "metadata": {},
      "source": [
        "Now we extract the data from that dataset, years 2015-2020."
      ]
    },
    {
      "cell_type": "code",
      "execution_count": 5,
      "metadata": {
        "id": "rzXCtVHzdA1n"
      },
      "outputs": [],
      "source": [
        "extract_data(\"https://data.boston.gov/dataset/8048697b-ad64-4bfc-b090-ee00169f2323/resource/c9509ab4-6f6d-4b97-979a-0cf2a10c922b/download/311_service_requests_2015.csv\", \"data/data_2015.csv\")\n",
        "extract_data(\"https://data.boston.gov/dataset/8048697b-ad64-4bfc-b090-ee00169f2323/resource/b7ea6b1b-3ca4-4c5b-9713-6dc1db52379a/download/311_service_requests_2016.csv\", \"data/data_2016.csv\")\n",
        "extract_data(\"https://data.boston.gov/dataset/8048697b-ad64-4bfc-b090-ee00169f2323/resource/30022137-709d-465e-baae-ca155b51927d/download/311_service_requests_2017.csv\", \"data/data_2017.csv\")\n",
        "extract_data(\"https://data.boston.gov/dataset/8048697b-ad64-4bfc-b090-ee00169f2323/resource/2be28d90-3a90-4af1-a3f6-f28c1e25880a/download/311_service_requests_2018.csv\", \"data/data_2018.csv\")\n",
        "extract_data(\"https://data.boston.gov/dataset/8048697b-ad64-4bfc-b090-ee00169f2323/resource/ea2e4696-4a2d-429c-9807-d02eb92e0222/download/311_service_requests_2019.csv\", \"data/data_2019.csv\")\n",
        "extract_data(\"https://data.boston.gov/dataset/8048697b-ad64-4bfc-b090-ee00169f2323/resource/6ff6a6fd-3141-4440-a880-6f60a37fe789/download/script_105774672_20210108153400_combine.csv\", \"data/data_2020.csv\")\n"
      ]
    },
    {
      "cell_type": "markdown",
      "metadata": {},
      "source": [
        "We verify that our files were downloaded"
      ]
    },
    {
      "cell_type": "code",
      "execution_count": 3,
      "metadata": {},
      "outputs": [
        {
          "name": "stdout",
          "output_type": "stream",
          "text": [
            "['data_2015.csv', 'data_2016.csv', 'data_2017.csv', 'data_2018.csv', 'data_2019.csv', 'data_2020.csv']\n"
          ]
        }
      ],
      "source": [
        "file_names = os.listdir('./data')\n",
        "print(file_names)"
      ]
    },
    {
      "cell_type": "markdown",
      "metadata": {},
      "source": [
        "We create a dictionary of dataframes, containing the dataframes we downloaded previously"
      ]
    },
    {
      "cell_type": "code",
      "execution_count": 4,
      "metadata": {
        "id": "vqv3gyP5fOpq"
      },
      "outputs": [],
      "source": [
        "dict_dfs = {}\n",
        "for file in file_names:\n",
        "    year = file.split(\"_\")[-1].split(\".\")[0]\n",
        "    dict_dfs[year] = pd.read_csv(\"data/\" + file)\n"
      ]
    },
    {
      "cell_type": "markdown",
      "metadata": {},
      "source": [
        "We can take a look at our dataset, to have an idea how it looks like. For example, for 2015 we have"
      ]
    },
    {
      "cell_type": "code",
      "execution_count": 9,
      "metadata": {
        "colab": {
          "base_uri": "https://localhost:8080/",
          "height": 498
        },
        "id": "vQ1dKPEcgEIm",
        "outputId": "d496bb6e-1c16-4ab9-e7da-deb4835590b1"
      },
      "outputs": [
        {
          "data": {
            "text/html": [
              "<div>\n",
              "<style scoped>\n",
              "    .dataframe tbody tr th:only-of-type {\n",
              "        vertical-align: middle;\n",
              "    }\n",
              "\n",
              "    .dataframe tbody tr th {\n",
              "        vertical-align: top;\n",
              "    }\n",
              "\n",
              "    .dataframe thead th {\n",
              "        text-align: right;\n",
              "    }\n",
              "</style>\n",
              "<table border=\"1\" class=\"dataframe\">\n",
              "  <thead>\n",
              "    <tr style=\"text-align: right;\">\n",
              "      <th></th>\n",
              "      <th>case_enquiry_id</th>\n",
              "      <th>open_dt</th>\n",
              "      <th>target_dt</th>\n",
              "      <th>closed_dt</th>\n",
              "      <th>ontime</th>\n",
              "      <th>case_status</th>\n",
              "      <th>closure_reason</th>\n",
              "      <th>case_title</th>\n",
              "      <th>subject</th>\n",
              "      <th>reason</th>\n",
              "      <th>...</th>\n",
              "      <th>police_district</th>\n",
              "      <th>neighborhood</th>\n",
              "      <th>neighborhood_services_district</th>\n",
              "      <th>ward</th>\n",
              "      <th>precinct</th>\n",
              "      <th>location_street_name</th>\n",
              "      <th>location_zipcode</th>\n",
              "      <th>latitude</th>\n",
              "      <th>longitude</th>\n",
              "      <th>source</th>\n",
              "    </tr>\n",
              "  </thead>\n",
              "  <tbody>\n",
              "    <tr>\n",
              "      <th>0</th>\n",
              "      <td>101001240734</td>\n",
              "      <td>2015-01-01 00:20:09</td>\n",
              "      <td>NaN</td>\n",
              "      <td>2015-01-02 09:08:42</td>\n",
              "      <td>ONTIME</td>\n",
              "      <td>Closed</td>\n",
              "      <td>Case Closed Case Noted</td>\n",
              "      <td>Other</td>\n",
              "      <td>Mayor's 24 Hour Hotline</td>\n",
              "      <td>Notification</td>\n",
              "      <td>...</td>\n",
              "      <td>A1</td>\n",
              "      <td>Downtown / Financial District</td>\n",
              "      <td>14</td>\n",
              "      <td>Ward 5</td>\n",
              "      <td>0503</td>\n",
              "      <td>33 Beacon St</td>\n",
              "      <td>2108.0</td>\n",
              "      <td>42.3574</td>\n",
              "      <td>-71.0648</td>\n",
              "      <td>Constituent Call</td>\n",
              "    </tr>\n",
              "    <tr>\n",
              "      <th>1</th>\n",
              "      <td>101001240735</td>\n",
              "      <td>2015-01-01 00:25:23</td>\n",
              "      <td>2015-01-16 08:30:00</td>\n",
              "      <td>2015-01-02 16:17:43</td>\n",
              "      <td>ONTIME</td>\n",
              "      <td>Closed</td>\n",
              "      <td>Case Closed Duplicate of Existing Case duplica...</td>\n",
              "      <td>PRINTED</td>\n",
              "      <td>Public Works Department</td>\n",
              "      <td>Street Lights</td>\n",
              "      <td>...</td>\n",
              "      <td>D4</td>\n",
              "      <td>Fenway / Kenmore / Audubon Circle / Longwood</td>\n",
              "      <td>14</td>\n",
              "      <td>Ward 5</td>\n",
              "      <td>0502</td>\n",
              "      <td>145-151 Ipswich St</td>\n",
              "      <td>2215.0</td>\n",
              "      <td>42.3474</td>\n",
              "      <td>-71.0944</td>\n",
              "      <td>Citizens Connect App</td>\n",
              "    </tr>\n",
              "    <tr>\n",
              "      <th>2</th>\n",
              "      <td>101001240736</td>\n",
              "      <td>2015-01-01 00:25:36</td>\n",
              "      <td>2015-01-16 08:30:00</td>\n",
              "      <td>2015-04-28 08:49:50</td>\n",
              "      <td>OVERDUE</td>\n",
              "      <td>Closed</td>\n",
              "      <td>Case Closed Case Resolved Rebuilt luminaires a...</td>\n",
              "      <td>PRINTED</td>\n",
              "      <td>Public Works Department</td>\n",
              "      <td>Street Lights</td>\n",
              "      <td>...</td>\n",
              "      <td>D4</td>\n",
              "      <td>Fenway / Kenmore / Audubon Circle / Longwood</td>\n",
              "      <td>14</td>\n",
              "      <td>Ward 5</td>\n",
              "      <td>0502</td>\n",
              "      <td>145-151 Ipswich St</td>\n",
              "      <td>2215.0</td>\n",
              "      <td>42.3474</td>\n",
              "      <td>-71.0944</td>\n",
              "      <td>Citizens Connect App</td>\n",
              "    </tr>\n",
              "    <tr>\n",
              "      <th>3</th>\n",
              "      <td>101001240740</td>\n",
              "      <td>2015-01-01 01:45:37</td>\n",
              "      <td>NaN</td>\n",
              "      <td>NaN</td>\n",
              "      <td>ONTIME</td>\n",
              "      <td>Open</td>\n",
              "      <td></td>\n",
              "      <td>Animal Found</td>\n",
              "      <td>Animal Control</td>\n",
              "      <td>Animal Issues</td>\n",
              "      <td>...</td>\n",
              "      <td>E5</td>\n",
              "      <td>West Roxbury</td>\n",
              "      <td>12</td>\n",
              "      <td>Ward 20</td>\n",
              "      <td>2010</td>\n",
              "      <td>4833 Washington St</td>\n",
              "      <td>2132.0</td>\n",
              "      <td>42.2711</td>\n",
              "      <td>-71.1464</td>\n",
              "      <td>Constituent Call</td>\n",
              "    </tr>\n",
              "    <tr>\n",
              "      <th>4</th>\n",
              "      <td>101001240742</td>\n",
              "      <td>2015-01-01 02:24:59</td>\n",
              "      <td>NaN</td>\n",
              "      <td>2015-01-02 09:09:00</td>\n",
              "      <td>ONTIME</td>\n",
              "      <td>Closed</td>\n",
              "      <td>Case Closed Case Noted</td>\n",
              "      <td>Fire</td>\n",
              "      <td>Mayor's 24 Hour Hotline</td>\n",
              "      <td>Notification</td>\n",
              "      <td>...</td>\n",
              "      <td>C6</td>\n",
              "      <td>Dorchester</td>\n",
              "      <td>5</td>\n",
              "      <td>Ward 7</td>\n",
              "      <td>0708</td>\n",
              "      <td>10 Washburn St</td>\n",
              "      <td>2125.0</td>\n",
              "      <td>42.3254</td>\n",
              "      <td>-71.0574</td>\n",
              "      <td>Constituent Call</td>\n",
              "    </tr>\n",
              "  </tbody>\n",
              "</table>\n",
              "<p>5 rows × 29 columns</p>\n",
              "</div>"
            ],
            "text/plain": [
              "   case_enquiry_id              open_dt            target_dt  \\\n",
              "0     101001240734  2015-01-01 00:20:09                  NaN   \n",
              "1     101001240735  2015-01-01 00:25:23  2015-01-16 08:30:00   \n",
              "2     101001240736  2015-01-01 00:25:36  2015-01-16 08:30:00   \n",
              "3     101001240740  2015-01-01 01:45:37                  NaN   \n",
              "4     101001240742  2015-01-01 02:24:59                  NaN   \n",
              "\n",
              "             closed_dt   ontime case_status  \\\n",
              "0  2015-01-02 09:08:42   ONTIME      Closed   \n",
              "1  2015-01-02 16:17:43   ONTIME      Closed   \n",
              "2  2015-04-28 08:49:50  OVERDUE      Closed   \n",
              "3                  NaN   ONTIME        Open   \n",
              "4  2015-01-02 09:09:00   ONTIME      Closed   \n",
              "\n",
              "                                      closure_reason    case_title  \\\n",
              "0                            Case Closed Case Noted          Other   \n",
              "1  Case Closed Duplicate of Existing Case duplica...       PRINTED   \n",
              "2  Case Closed Case Resolved Rebuilt luminaires a...       PRINTED   \n",
              "3                                                     Animal Found   \n",
              "4                            Case Closed Case Noted           Fire   \n",
              "\n",
              "                   subject         reason  ... police_district  \\\n",
              "0  Mayor's 24 Hour Hotline   Notification  ...              A1   \n",
              "1  Public Works Department  Street Lights  ...              D4   \n",
              "2  Public Works Department  Street Lights  ...              D4   \n",
              "3           Animal Control  Animal Issues  ...              E5   \n",
              "4  Mayor's 24 Hour Hotline   Notification  ...              C6   \n",
              "\n",
              "                                   neighborhood  \\\n",
              "0                 Downtown / Financial District   \n",
              "1  Fenway / Kenmore / Audubon Circle / Longwood   \n",
              "2  Fenway / Kenmore / Audubon Circle / Longwood   \n",
              "3                                  West Roxbury   \n",
              "4                                    Dorchester   \n",
              "\n",
              "  neighborhood_services_district     ward precinct location_street_name  \\\n",
              "0                             14   Ward 5     0503         33 Beacon St   \n",
              "1                             14   Ward 5     0502   145-151 Ipswich St   \n",
              "2                             14   Ward 5     0502   145-151 Ipswich St   \n",
              "3                             12  Ward 20     2010   4833 Washington St   \n",
              "4                              5   Ward 7     0708       10 Washburn St   \n",
              "\n",
              "  location_zipcode latitude longitude                source  \n",
              "0           2108.0  42.3574  -71.0648      Constituent Call  \n",
              "1           2215.0  42.3474  -71.0944  Citizens Connect App  \n",
              "2           2215.0  42.3474  -71.0944  Citizens Connect App  \n",
              "3           2132.0  42.2711  -71.1464      Constituent Call  \n",
              "4           2125.0  42.3254  -71.0574      Constituent Call  \n",
              "\n",
              "[5 rows x 29 columns]"
            ]
          },
          "execution_count": 9,
          "metadata": {},
          "output_type": "execute_result"
        }
      ],
      "source": [
        "dict_dfs['2015'].head()"
      ]
    },
    {
      "cell_type": "markdown",
      "metadata": {},
      "source": [
        "Again for 2015 we can use our functions form utils.py to describe the numeric and object columns. "
      ]
    },
    {
      "cell_type": "code",
      "execution_count": 15,
      "metadata": {},
      "outputs": [
        {
          "name": "stdout",
          "output_type": "stream",
          "text": [
            "1. Data shape (rows, columns): (210084, 29)\n",
            "2. Number of duplicate rows: 0\n"
          ]
        },
        {
          "data": {
            "text/html": [
              "<div>\n",
              "<style scoped>\n",
              "    .dataframe tbody tr th:only-of-type {\n",
              "        vertical-align: middle;\n",
              "    }\n",
              "\n",
              "    .dataframe tbody tr th {\n",
              "        vertical-align: top;\n",
              "    }\n",
              "\n",
              "    .dataframe thead th {\n",
              "        text-align: right;\n",
              "    }\n",
              "</style>\n",
              "<table border=\"1\" class=\"dataframe\">\n",
              "  <thead>\n",
              "    <tr style=\"text-align: right;\">\n",
              "      <th></th>\n",
              "      <th>Dtype</th>\n",
              "      <th>Counts</th>\n",
              "      <th>Nulls</th>\n",
              "      <th>Min</th>\n",
              "      <th>Max</th>\n",
              "      <th>Uniques</th>\n",
              "      <th>UniqueValues</th>\n",
              "    </tr>\n",
              "  </thead>\n",
              "  <tbody>\n",
              "    <tr>\n",
              "      <th>case_enquiry_id</th>\n",
              "      <td>int64</td>\n",
              "      <td>210084</td>\n",
              "      <td>0</td>\n",
              "      <td>1.010012e+11</td>\n",
              "      <td>1.010017e+11</td>\n",
              "      <td>210084</td>\n",
              "      <td>Too many</td>\n",
              "    </tr>\n",
              "    <tr>\n",
              "      <th>location_zipcode</th>\n",
              "      <td>float64</td>\n",
              "      <td>161353</td>\n",
              "      <td>48731</td>\n",
              "      <td>2.108000e+03</td>\n",
              "      <td>2.467000e+03</td>\n",
              "      <td>35</td>\n",
              "      <td>Too many</td>\n",
              "    </tr>\n",
              "    <tr>\n",
              "      <th>latitude</th>\n",
              "      <td>float64</td>\n",
              "      <td>210084</td>\n",
              "      <td>0</td>\n",
              "      <td>4.223210e+01</td>\n",
              "      <td>4.239520e+01</td>\n",
              "      <td>1612</td>\n",
              "      <td>Too many</td>\n",
              "    </tr>\n",
              "    <tr>\n",
              "      <th>longitude</th>\n",
              "      <td>float64</td>\n",
              "      <td>210084</td>\n",
              "      <td>0</td>\n",
              "      <td>-7.118540e+01</td>\n",
              "      <td>-7.099570e+01</td>\n",
              "      <td>1788</td>\n",
              "      <td>Too many</td>\n",
              "    </tr>\n",
              "  </tbody>\n",
              "</table>\n",
              "</div>"
            ],
            "text/plain": [
              "                    Dtype  Counts  Nulls           Min           Max  Uniques  \\\n",
              "case_enquiry_id     int64  210084      0  1.010012e+11  1.010017e+11   210084   \n",
              "location_zipcode  float64  161353  48731  2.108000e+03  2.467000e+03       35   \n",
              "latitude          float64  210084      0  4.223210e+01  4.239520e+01     1612   \n",
              "longitude         float64  210084      0 -7.118540e+01 -7.099570e+01     1788   \n",
              "\n",
              "                 UniqueValues  \n",
              "case_enquiry_id      Too many  \n",
              "location_zipcode     Too many  \n",
              "latitude             Too many  \n",
              "longitude            Too many  "
            ]
          },
          "execution_count": 15,
          "metadata": {},
          "output_type": "execute_result"
        }
      ],
      "source": [
        "numeric_summary(dict_dfs['2015'])"
      ]
    },
    {
      "cell_type": "code",
      "execution_count": 17,
      "metadata": {},
      "outputs": [
        {
          "name": "stdout",
          "output_type": "stream",
          "text": [
            "1. Data shape (rows, columns): (210084, 29)\n",
            "2. Number of duplicate rows: 0\n"
          ]
        },
        {
          "data": {
            "text/html": [
              "<div>\n",
              "<style scoped>\n",
              "    .dataframe tbody tr th:only-of-type {\n",
              "        vertical-align: middle;\n",
              "    }\n",
              "\n",
              "    .dataframe tbody tr th {\n",
              "        vertical-align: top;\n",
              "    }\n",
              "\n",
              "    .dataframe thead th {\n",
              "        text-align: right;\n",
              "    }\n",
              "</style>\n",
              "<table border=\"1\" class=\"dataframe\">\n",
              "  <thead>\n",
              "    <tr style=\"text-align: right;\">\n",
              "      <th></th>\n",
              "      <th>Dtype</th>\n",
              "      <th>Counts</th>\n",
              "      <th>Nulls</th>\n",
              "      <th>Top</th>\n",
              "      <th>Frequency</th>\n",
              "      <th>Uniques</th>\n",
              "      <th>UniqueValues</th>\n",
              "    </tr>\n",
              "  </thead>\n",
              "  <tbody>\n",
              "    <tr>\n",
              "      <th>open_dt</th>\n",
              "      <td>object</td>\n",
              "      <td>210084</td>\n",
              "      <td>0</td>\n",
              "      <td>2015-07-23 10:51:00</td>\n",
              "      <td>17</td>\n",
              "      <td>192517</td>\n",
              "      <td>Too many</td>\n",
              "    </tr>\n",
              "    <tr>\n",
              "      <th>target_dt</th>\n",
              "      <td>object</td>\n",
              "      <td>172896</td>\n",
              "      <td>37188</td>\n",
              "      <td>2015-02-19 08:30:00</td>\n",
              "      <td>4186</td>\n",
              "      <td>111667</td>\n",
              "      <td>Too many</td>\n",
              "    </tr>\n",
              "    <tr>\n",
              "      <th>closed_dt</th>\n",
              "      <td>object</td>\n",
              "      <td>194390</td>\n",
              "      <td>15694</td>\n",
              "      <td>2015-02-20 00:56:13</td>\n",
              "      <td>17</td>\n",
              "      <td>179380</td>\n",
              "      <td>Too many</td>\n",
              "    </tr>\n",
              "    <tr>\n",
              "      <th>ontime</th>\n",
              "      <td>object</td>\n",
              "      <td>209925</td>\n",
              "      <td>159</td>\n",
              "      <td>ONTIME</td>\n",
              "      <td>146332</td>\n",
              "      <td>3</td>\n",
              "      <td>[ONTIME, OVERDUE, nan]</td>\n",
              "    </tr>\n",
              "    <tr>\n",
              "      <th>case_status</th>\n",
              "      <td>object</td>\n",
              "      <td>210084</td>\n",
              "      <td>0</td>\n",
              "      <td>Closed</td>\n",
              "      <td>194390</td>\n",
              "      <td>2</td>\n",
              "      <td>[Closed, Open]</td>\n",
              "    </tr>\n",
              "    <tr>\n",
              "      <th>closure_reason</th>\n",
              "      <td>object</td>\n",
              "      <td>210084</td>\n",
              "      <td>0</td>\n",
              "      <td></td>\n",
              "      <td>15632</td>\n",
              "      <td>131641</td>\n",
              "      <td>Too many</td>\n",
              "    </tr>\n",
              "    <tr>\n",
              "      <th>case_title</th>\n",
              "      <td>object</td>\n",
              "      <td>209893</td>\n",
              "      <td>191</td>\n",
              "      <td>Request for Snow Plowing</td>\n",
              "      <td>30325</td>\n",
              "      <td>3717</td>\n",
              "      <td>Too many</td>\n",
              "    </tr>\n",
              "    <tr>\n",
              "      <th>subject</th>\n",
              "      <td>object</td>\n",
              "      <td>210084</td>\n",
              "      <td>0</td>\n",
              "      <td>Public Works Department</td>\n",
              "      <td>132347</td>\n",
              "      <td>14</td>\n",
              "      <td>Too many</td>\n",
              "    </tr>\n",
              "    <tr>\n",
              "      <th>reason</th>\n",
              "      <td>object</td>\n",
              "      <td>210084</td>\n",
              "      <td>0</td>\n",
              "      <td>Street Cleaning</td>\n",
              "      <td>51483</td>\n",
              "      <td>50</td>\n",
              "      <td>Too many</td>\n",
              "    </tr>\n",
              "    <tr>\n",
              "      <th>type</th>\n",
              "      <td>object</td>\n",
              "      <td>210084</td>\n",
              "      <td>0</td>\n",
              "      <td>Request for Snow Plowing</td>\n",
              "      <td>30358</td>\n",
              "      <td>184</td>\n",
              "      <td>Too many</td>\n",
              "    </tr>\n",
              "    <tr>\n",
              "      <th>queue</th>\n",
              "      <td>object</td>\n",
              "      <td>210084</td>\n",
              "      <td>0</td>\n",
              "      <td>PWDx_Schedule a Bulk Item Pickup</td>\n",
              "      <td>17630</td>\n",
              "      <td>146</td>\n",
              "      <td>Too many</td>\n",
              "    </tr>\n",
              "    <tr>\n",
              "      <th>department</th>\n",
              "      <td>object</td>\n",
              "      <td>210084</td>\n",
              "      <td>0</td>\n",
              "      <td>PWDx</td>\n",
              "      <td>130563</td>\n",
              "      <td>15</td>\n",
              "      <td>Too many</td>\n",
              "    </tr>\n",
              "    <tr>\n",
              "      <th>submittedphoto</th>\n",
              "      <td>object</td>\n",
              "      <td>46594</td>\n",
              "      <td>163490</td>\n",
              "      <td>https://mayors24.cityofboston.gov/media/bosto...</td>\n",
              "      <td>11</td>\n",
              "      <td>46512</td>\n",
              "      <td>Too many</td>\n",
              "    </tr>\n",
              "    <tr>\n",
              "      <th>closedphoto</th>\n",
              "      <td>object</td>\n",
              "      <td>23450</td>\n",
              "      <td>186634</td>\n",
              "      <td>https://cityworker.cityofboston.gov:8443/attac...</td>\n",
              "      <td>1</td>\n",
              "      <td>23451</td>\n",
              "      <td>Too many</td>\n",
              "    </tr>\n",
              "    <tr>\n",
              "      <th>location</th>\n",
              "      <td>object</td>\n",
              "      <td>210084</td>\n",
              "      <td>0</td>\n",
              "      <td></td>\n",
              "      <td>8358</td>\n",
              "      <td>70196</td>\n",
              "      <td>Too many</td>\n",
              "    </tr>\n",
              "    <tr>\n",
              "      <th>fire_district</th>\n",
              "      <td>object</td>\n",
              "      <td>209549</td>\n",
              "      <td>535</td>\n",
              "      <td>4</td>\n",
              "      <td>28266</td>\n",
              "      <td>13</td>\n",
              "      <td>Too many</td>\n",
              "    </tr>\n",
              "    <tr>\n",
              "      <th>pwd_district</th>\n",
              "      <td>object</td>\n",
              "      <td>209932</td>\n",
              "      <td>152</td>\n",
              "      <td>1C</td>\n",
              "      <td>26219</td>\n",
              "      <td>20</td>\n",
              "      <td>Too many</td>\n",
              "    </tr>\n",
              "    <tr>\n",
              "      <th>city_council_district</th>\n",
              "      <td>object</td>\n",
              "      <td>210055</td>\n",
              "      <td>29</td>\n",
              "      <td>2</td>\n",
              "      <td>30496</td>\n",
              "      <td>12</td>\n",
              "      <td>Too many</td>\n",
              "    </tr>\n",
              "    <tr>\n",
              "      <th>police_district</th>\n",
              "      <td>object</td>\n",
              "      <td>210017</td>\n",
              "      <td>67</td>\n",
              "      <td>D4</td>\n",
              "      <td>25601</td>\n",
              "      <td>25</td>\n",
              "      <td>Too many</td>\n",
              "    </tr>\n",
              "    <tr>\n",
              "      <th>neighborhood</th>\n",
              "      <td>object</td>\n",
              "      <td>209902</td>\n",
              "      <td>182</td>\n",
              "      <td>Dorchester</td>\n",
              "      <td>30755</td>\n",
              "      <td>25</td>\n",
              "      <td>Too many</td>\n",
              "    </tr>\n",
              "    <tr>\n",
              "      <th>neighborhood_services_district</th>\n",
              "      <td>object</td>\n",
              "      <td>210055</td>\n",
              "      <td>29</td>\n",
              "      <td>13</td>\n",
              "      <td>21415</td>\n",
              "      <td>18</td>\n",
              "      <td>Too many</td>\n",
              "    </tr>\n",
              "    <tr>\n",
              "      <th>ward</th>\n",
              "      <td>object</td>\n",
              "      <td>210035</td>\n",
              "      <td>49</td>\n",
              "      <td>Ward 18</td>\n",
              "      <td>16226</td>\n",
              "      <td>50</td>\n",
              "      <td>Too many</td>\n",
              "    </tr>\n",
              "    <tr>\n",
              "      <th>precinct</th>\n",
              "      <td>object</td>\n",
              "      <td>209996</td>\n",
              "      <td>88</td>\n",
              "      <td></td>\n",
              "      <td>9208</td>\n",
              "      <td>256</td>\n",
              "      <td>Too many</td>\n",
              "    </tr>\n",
              "    <tr>\n",
              "      <th>location_street_name</th>\n",
              "      <td>object</td>\n",
              "      <td>201726</td>\n",
              "      <td>8358</td>\n",
              "      <td>1 City Hall Plz</td>\n",
              "      <td>751</td>\n",
              "      <td>69393</td>\n",
              "      <td>Too many</td>\n",
              "    </tr>\n",
              "    <tr>\n",
              "      <th>source</th>\n",
              "      <td>object</td>\n",
              "      <td>210084</td>\n",
              "      <td>0</td>\n",
              "      <td>Constituent Call</td>\n",
              "      <td>113464</td>\n",
              "      <td>7</td>\n",
              "      <td>[Constituent Call, Citizens Connect App, Self ...</td>\n",
              "    </tr>\n",
              "  </tbody>\n",
              "</table>\n",
              "</div>"
            ],
            "text/plain": [
              "                                 Dtype  Counts   Nulls  \\\n",
              "open_dt                         object  210084       0   \n",
              "target_dt                       object  172896   37188   \n",
              "closed_dt                       object  194390   15694   \n",
              "ontime                          object  209925     159   \n",
              "case_status                     object  210084       0   \n",
              "closure_reason                  object  210084       0   \n",
              "case_title                      object  209893     191   \n",
              "subject                         object  210084       0   \n",
              "reason                          object  210084       0   \n",
              "type                            object  210084       0   \n",
              "queue                           object  210084       0   \n",
              "department                      object  210084       0   \n",
              "submittedphoto                  object   46594  163490   \n",
              "closedphoto                     object   23450  186634   \n",
              "location                        object  210084       0   \n",
              "fire_district                   object  209549     535   \n",
              "pwd_district                    object  209932     152   \n",
              "city_council_district           object  210055      29   \n",
              "police_district                 object  210017      67   \n",
              "neighborhood                    object  209902     182   \n",
              "neighborhood_services_district  object  210055      29   \n",
              "ward                            object  210035      49   \n",
              "precinct                        object  209996      88   \n",
              "location_street_name            object  201726    8358   \n",
              "source                          object  210084       0   \n",
              "\n",
              "                                                                              Top  \\\n",
              "open_dt                                                       2015-07-23 10:51:00   \n",
              "target_dt                                                     2015-02-19 08:30:00   \n",
              "closed_dt                                                     2015-02-20 00:56:13   \n",
              "ontime                                                                     ONTIME   \n",
              "case_status                                                                Closed   \n",
              "closure_reason                                                                      \n",
              "case_title                                               Request for Snow Plowing   \n",
              "subject                                                   Public Works Department   \n",
              "reason                                                            Street Cleaning   \n",
              "type                                                     Request for Snow Plowing   \n",
              "queue                                            PWDx_Schedule a Bulk Item Pickup   \n",
              "department                                                                   PWDx   \n",
              "submittedphoto                   https://mayors24.cityofboston.gov/media/bosto...   \n",
              "closedphoto                     https://cityworker.cityofboston.gov:8443/attac...   \n",
              "location                                                                            \n",
              "fire_district                                                                   4   \n",
              "pwd_district                                                                   1C   \n",
              "city_council_district                                                           2   \n",
              "police_district                                                                D4   \n",
              "neighborhood                                                           Dorchester   \n",
              "neighborhood_services_district                                                 13   \n",
              "ward                                                                      Ward 18   \n",
              "precinct                                                                            \n",
              "location_street_name                                              1 City Hall Plz   \n",
              "source                                                           Constituent Call   \n",
              "\n",
              "                                Frequency  Uniques  \\\n",
              "open_dt                                17   192517   \n",
              "target_dt                            4186   111667   \n",
              "closed_dt                              17   179380   \n",
              "ontime                             146332        3   \n",
              "case_status                        194390        2   \n",
              "closure_reason                      15632   131641   \n",
              "case_title                          30325     3717   \n",
              "subject                            132347       14   \n",
              "reason                              51483       50   \n",
              "type                                30358      184   \n",
              "queue                               17630      146   \n",
              "department                         130563       15   \n",
              "submittedphoto                         11    46512   \n",
              "closedphoto                             1    23451   \n",
              "location                             8358    70196   \n",
              "fire_district                       28266       13   \n",
              "pwd_district                        26219       20   \n",
              "city_council_district               30496       12   \n",
              "police_district                     25601       25   \n",
              "neighborhood                        30755       25   \n",
              "neighborhood_services_district      21415       18   \n",
              "ward                                16226       50   \n",
              "precinct                             9208      256   \n",
              "location_street_name                  751    69393   \n",
              "source                             113464        7   \n",
              "\n",
              "                                                                     UniqueValues  \n",
              "open_dt                                                                  Too many  \n",
              "target_dt                                                                Too many  \n",
              "closed_dt                                                                Too many  \n",
              "ontime                                                     [ONTIME, OVERDUE, nan]  \n",
              "case_status                                                        [Closed, Open]  \n",
              "closure_reason                                                           Too many  \n",
              "case_title                                                               Too many  \n",
              "subject                                                                  Too many  \n",
              "reason                                                                   Too many  \n",
              "type                                                                     Too many  \n",
              "queue                                                                    Too many  \n",
              "department                                                               Too many  \n",
              "submittedphoto                                                           Too many  \n",
              "closedphoto                                                              Too many  \n",
              "location                                                                 Too many  \n",
              "fire_district                                                            Too many  \n",
              "pwd_district                                                             Too many  \n",
              "city_council_district                                                    Too many  \n",
              "police_district                                                          Too many  \n",
              "neighborhood                                                             Too many  \n",
              "neighborhood_services_district                                           Too many  \n",
              "ward                                                                     Too many  \n",
              "precinct                                                                 Too many  \n",
              "location_street_name                                                     Too many  \n",
              "source                          [Constituent Call, Citizens Connect App, Self ...  "
            ]
          },
          "execution_count": 17,
          "metadata": {},
          "output_type": "execute_result"
        }
      ],
      "source": [
        "object_summary(dict_dfs['2015'])"
      ]
    },
    {
      "cell_type": "markdown",
      "metadata": {},
      "source": [
        "We already see some things we should do, for example open_dt should be timestamp data type, but at this stage, we are only conserned in the raw data, no transformation will occur. "
      ]
    },
    {
      "cell_type": "markdown",
      "metadata": {},
      "source": [
        "Next we will access our AWS credentials from our .env file. This, of course, will not be available on GitHub."
      ]
    },
    {
      "cell_type": "code",
      "execution_count": 2,
      "metadata": {},
      "outputs": [],
      "source": [
        "# Load environment variables from .env file\n",
        "load_dotenv('.env')\n",
        "\n",
        "# Access the variables\n",
        "aws_access_key_id = os.getenv('AWS_ACCESS_KEY_ID')\n",
        "aws_secret_access_key = os.getenv('AWS_SECRET_ACCESS_KEY')\n",
        "region_name = os.getenv('REGION_NAME')"
      ]
    },
    {
      "cell_type": "markdown",
      "metadata": {},
      "source": [
        "We start boto3 client."
      ]
    },
    {
      "cell_type": "code",
      "execution_count": 3,
      "metadata": {
        "id": "m1er8uHb-Dx9"
      },
      "outputs": [],
      "source": [
        "boto3.setup_default_session(\n",
        "    aws_access_key_id=aws_access_key_id,\n",
        "    aws_secret_access_key=aws_secret_access_key,\n",
        "    region_name=region_name\n",
        ")\n",
        "\n",
        "s3 = boto3.client('s3')"
      ]
    },
    {
      "cell_type": "markdown",
      "metadata": {},
      "source": [
        "Just to see which buckets we have"
      ]
    },
    {
      "cell_type": "code",
      "execution_count": 10,
      "metadata": {},
      "outputs": [
        {
          "data": {
            "text/plain": [
              "[{'Name': 'project-bostondata',\n",
              "  'CreationDate': datetime.datetime(2024, 10, 9, 17, 59, 18, tzinfo=tzutc())}]"
            ]
          },
          "execution_count": 10,
          "metadata": {},
          "output_type": "execute_result"
        }
      ],
      "source": [
        "s3.list_buckets()['Buckets']"
      ]
    },
    {
      "cell_type": "markdown",
      "metadata": {},
      "source": [
        "Now we convert our .csv files into parquet ( for compression purposes) and upload them into our s3 folder. This step can take some time."
      ]
    },
    {
      "cell_type": "code",
      "execution_count": 11,
      "metadata": {},
      "outputs": [],
      "source": [
        "for year, df in dict_dfs.items():\n",
        "    parquet_buffer = BytesIO()\n",
        "    df.to_parquet(parquet_buffer)\n",
        "    s3.put_object(\n",
        "        Bucket=\"project-bostondata\",\n",
        "        Key=f\"bronze/data_{year}.parquet\",\n",
        "        Body=parquet_buffer.getvalue(),\n",
        "    )"
      ]
    },
    {
      "cell_type": "markdown",
      "metadata": {},
      "source": [
        "To ensure our files are uploaded, we list the objects of our Bucket."
      ]
    },
    {
      "cell_type": "code",
      "execution_count": 12,
      "metadata": {},
      "outputs": [
        {
          "name": "stdout",
          "output_type": "stream",
          "text": [
            "['bronze/', 'bronze/data_2015.parquet', 'bronze/data_2016.parquet', 'bronze/data_2017.parquet', 'bronze/data_2018.parquet', 'bronze/data_2019.parquet', 'bronze/data_2020.parquet', 'silver/']\n"
          ]
        }
      ],
      "source": [
        "response = s3.list_objects(Bucket=\"project-bostondata\")\n",
        "print( [obj['Key'] for obj in response['Contents']] )"
      ]
    },
    {
      "cell_type": "markdown",
      "metadata": {},
      "source": [
        "Now we delete our data folder, since our data has already been uploaded in the s3 bucket."
      ]
    },
    {
      "cell_type": "code",
      "execution_count": 13,
      "metadata": {},
      "outputs": [],
      "source": [
        "# Delete the ./data folder and its contents\n",
        "shutil.rmtree('./data')"
      ]
    },
    {
      "cell_type": "markdown",
      "metadata": {},
      "source": [
        "<a id=\"4\"></a>\n",
        "## <font color= #0cc754> 4. Transformation of the raw data: Silver layer </font>"
      ]
    },
    {
      "cell_type": "markdown",
      "metadata": {},
      "source": [
        "Our next step is to transform this raw data in a more useful one. Here we make the s3 silver layer. Here is which modifications we are going to do\n",
        "\n",
        "| Column Name | Data Type | Transformation|\n",
        "|------|-------------|-------|\n",
        "| closure_reason   | string | Drop Column |\n",
        "| closure_reason_normalized | string   | New column: Take column `closure_reason` and extract the date when the case was closed using Regex |\n",
        "| open_year   | int | New column: Extract year from `open_dt` column |\n",
        "| open_month    | int |New column: Extract month from `open_dt` column |\n",
        "| duration_hours    | int |New column: Duration of the case, in hours |\n"
      ]
    },
    {
      "cell_type": "markdown",
      "metadata": {},
      "source": [
        "To do these transformations we are going to use AWS Glue. This next part takes place in the AWS console, I am providing in this notebook some information about the procedure, but a lot of datails will not be presented here, so some knowledge about AWS enviroment is required.\n",
        "\n",
        "For example, one needs to create a datalake using AWS datalake formation, a data catalog table for the bronze layer (using AWS Glue Crawler) and for the silver layer where your user has the correct permissions. The .json file for the schema of silver layer table is provided: "
      ]
    },
    {
      "cell_type": "markdown",
      "metadata": {},
      "source": [
        "```json \n",
        "[\n",
        "    {\"Name\": \"case_enquiry_id\", \"Type\": \"bigint\"},\n",
        "    {\"Name\": \"open_dt\", \"Type\": \"timestamp\"},\n",
        "    {\"Name\": \"target_dt\", \"Type\": \"timestamp\"},\n",
        "    {\"Name\": \"closed_dt\", \"Type\": \"timestamp\"},\n",
        "    {\"Name\": \"ontime\", \"Type\": \"string\"},\n",
        "    {\"Name\": \"case_status\", \"Type\": \"string\"},\n",
        "    {\"Name\": \"case_title\", \"Type\": \"string\"},\n",
        "    {\"Name\": \"subject\", \"Type\": \"string\"},\n",
        "    {\"Name\": \"reason\", \"Type\": \"string\"},\n",
        "    {\"Name\": \"type\", \"Type\": \"string\"},\n",
        "    {\"Name\": \"queue\", \"Type\": \"string\"},\n",
        "    {\"Name\": \"department\", \"Type\": \"string\"},\n",
        "    {\"Name\": \"submittedphoto\", \"Type\": \"string\"},\n",
        "    {\"Name\": \"closedphoto\", \"Type\": \"string\"},\n",
        "    {\"Name\": \"location\", \"Type\": \"string\"},\n",
        "    {\"Name\": \"fire_district\", \"Type\": \"string\"},\n",
        "    {\"Name\": \"pwd_district\", \"Type\": \"string\"},\n",
        "    {\"Name\": \"city_council_district\", \"Type\": \"string\"},\n",
        "    {\"Name\": \"police_district\", \"Type\": \"string\"},\n",
        "    {\"Name\": \"neighborhood\", \"Type\": \"string\"},\n",
        "    {\"Name\": \"neighborhood_services_district\", \"Type\": \"string\"},\n",
        "    {\"Name\": \"ward\", \"Type\": \"string\"},\n",
        "    {\"Name\": \"precinct\", \"Type\": \"string\"},\n",
        "    {\"Name\": \"location_street_name\", \"Type\": \"string\"},\n",
        "    {\"Name\": \"location_zipcode\", \"Type\": \"string\"},\n",
        "    {\"Name\": \"latitude\", \"Type\": \"string\"},\n",
        "    {\"Name\": \"longitude\", \"Type\": \"string\"},\n",
        "    {\"Name\": \"source\", \"Type\": \"string\"},\n",
        "    {\"Name\": \"closure_reason_normalized\", \"Type\": \"string\"},\n",
        "    {\"Name\": \"duration_hours\", \"Type\": \"double\"}\n",
        "]\n",
        "```\n"
      ]
    },
    {
      "cell_type": "markdown",
      "metadata": {},
      "source": [
        "Next, using the AWS Glue job, we use the following script"
      ]
    },
    {
      "cell_type": "markdown",
      "metadata": {},
      "source": [
        "```python\n",
        "# This is the code taken from the script generated by AWS Glue\n",
        "import sys\n",
        "from awsglue.transforms import *\n",
        "from awsglue.utils import getResolvedOptions\n",
        "from pyspark.context import SparkContext\n",
        "from awsglue.context import GlueContext\n",
        "from awsglue.job import Job\n",
        "import gs_regex_extract\n",
        "from awsglue import DynamicFrame\n",
        "import gs_derived\n",
        "\n",
        "def sparkSqlQuery(glueContext, query, mapping, transformation_ctx) -> DynamicFrame:\n",
        "    for alias, frame in mapping.items():\n",
        "        frame.toDF().createOrReplaceTempView(alias)\n",
        "    result = spark.sql(query)\n",
        "    return DynamicFrame.fromDF(result, glueContext, transformation_ctx)\n",
        "args = getResolvedOptions(sys.argv, ['JOB_NAME'])\n",
        "sc = SparkContext()\n",
        "glueContext = GlueContext(sc)\n",
        "spark = glueContext.spark_session\n",
        "job = Job(glueContext)\n",
        "job.init(args['JOB_NAME'], args)\n",
        "\n",
        "# Script generated for node AWS Glue Data Catalog\n",
        "AWSGlueDataCatalog_node1729000689671 = glueContext.create_dynamic_frame.from_catalog(database=\"datalake-aws-boston\", table_name=\"bronzebronze\", transformation_ctx=\"AWSGlueDataCatalog_node1729000689671\")\n",
        "\n",
        "# Script generated for node Change Schema\n",
        "ChangeSchema_node1729000760008 = ApplyMapping.apply(frame=AWSGlueDataCatalog_node1729000689671, mappings=[(\"case_enquiry_id\", \"long\", \"case_enquiry_id\", \"bigint\"), (\"open_dt\", \"string\", \"open_dt\", \"timestamp\"), (\"target_dt\", \"string\", \"target_dt\", \"timestamp\"), (\"closed_dt\", \"string\", \"closed_dt\", \"timestamp\"), (\"ontime\", \"string\", \"ontime\", \"string\"), (\"case_status\", \"string\", \"case_status\", \"string\"), (\"closure_reason\", \"string\", \"closure_reason\", \"string\"), (\"case_title\", \"string\", \"case_title\", \"string\"), (\"subject\", \"string\", \"subject\", \"string\"), (\"reason\", \"string\", \"reason\", \"string\"), (\"type\", \"string\", \"type\", \"string\"), (\"queue\", \"string\", \"queue\", \"string\"), (\"department\", \"string\", \"department\", \"string\"), (\"submittedphoto\", \"string\", \"submittedphoto\", \"string\"), (\"closedphoto\", \"string\", \"closedphoto\", \"string\"), (\"location\", \"string\", \"location\", \"string\"), (\"fire_district\", \"string\", \"fire_district\", \"string\"), (\"pwd_district\", \"string\", \"pwd_district\", \"string\"), (\"city_council_district\", \"string\", \"city_council_district\", \"string\"), (\"police_district\", \"string\", \"police_district\", \"string\"), (\"neighborhood\", \"string\", \"neighborhood\", \"string\"), (\"neighborhood_services_district\", \"string\", \"neighborhood_services_district\", \"string\"), (\"ward\", \"string\", \"ward\", \"string\"), (\"precinct\", \"string\", \"precinct\", \"string\"), (\"location_street_name\", \"string\", \"location_street_name\", \"string\"), (\"location_zipcode\", \"double\", \"location_zipcode\", \"string\"), (\"latitude\", \"double\", \"latitude\", \"string\"), (\"longitude\", \"double\", \"longitude\", \"string\"), (\"source\", \"string\", \"source\", \"string\")], transformation_ctx=\"ChangeSchema_node1729000760008\")\n",
        "\n",
        "# Script generated for node Regex Extractor\n",
        "RegexExtractor_node1729000885816 = ChangeSchema_node1729000760008.gs_regex_extract(colName=\"closure_reason\", regex=\"^Case Closed\\. Closed date : \\d{4}-\\d{2}-\\d{2} \\d{2}:\\d{2}:\\d{2}\\.\\d+ (.*)\", newCols=\"closure_reason_normalized\")\n",
        "\n",
        "# Script generated for node Derived Column Year\n",
        "DerivedColumnYear_node1729001020396 = RegexExtractor_node1729000885816.gs_derived(colName=\"open_year\", expr=\"YEAR(open_dt) as open_year\")\n",
        "\n",
        "# Script generated for node Derived Column Month\n",
        "DerivedColumnMonth_node1729001089494 = DerivedColumnYear_node1729001020396.gs_derived(colName=\"open_month\", expr=\"MONTH(open_dt) as open_month\")\n",
        "\n",
        "# Script generated for node SQL Query\n",
        "SqlQuery0 = '''\n",
        "SELECT tb_1.*, ROUND((unix_timestamp(closed_dt)-unix_timestamp(open_dt)/3600),0) AS duration_hours from tb_1\n",
        "'''\n",
        "SQLQuery_node1729001146254 = sparkSqlQuery(glueContext, query = SqlQuery0, mapping = {\"tb_1\":DerivedColumnMonth_node1729001089494}, transformation_ctx = \"SQLQuery_node1729001146254\")\n",
        "\n",
        "# Script generated for node Change Schema\n",
        "ChangeSchema_node1729002886435 = ApplyMapping.apply(frame=SQLQuery_node1729001146254, mappings=[(\"case_enquiry_id\", \"long\", \"case_enquiry_id\", \"long\"), (\"open_dt\", \"timestamp\", \"open_dt\", \"timestamp\"), (\"target_dt\", \"timestamp\", \"target_dt\", \"timestamp\"), (\"closed_dt\", \"timestamp\", \"closed_dt\", \"timestamp\"), (\"ontime\", \"string\", \"ontime\", \"string\"), (\"case_status\", \"string\", \"case_status\", \"string\"), (\"case_title\", \"string\", \"case_title\", \"string\"), (\"subject\", \"string\", \"subject\", \"string\"), (\"reason\", \"string\", \"reason\", \"string\"), (\"type\", \"string\", \"type\", \"string\"), (\"queue\", \"string\", \"queue\", \"string\"), (\"department\", \"string\", \"department\", \"string\"), (\"submittedphoto\", \"string\", \"submittedphoto\", \"string\"), (\"closedphoto\", \"string\", \"closedphoto\", \"string\"), (\"location\", \"string\", \"location\", \"string\"), (\"fire_district\", \"string\", \"fire_district\", \"string\"), (\"pwd_district\", \"string\", \"pwd_district\", \"string\"), (\"city_council_district\", \"string\", \"city_council_district\", \"string\"), (\"police_district\", \"string\", \"police_district\", \"string\"), (\"neighborhood\", \"string\", \"neighborhood\", \"string\"), (\"neighborhood_services_district\", \"string\", \"neighborhood_services_district\", \"string\"), (\"ward\", \"string\", \"ward\", \"string\"), (\"precinct\", \"string\", \"precinct\", \"string\"), (\"location_street_name\", \"string\", \"location_street_name\", \"string\"), (\"location_zipcode\", \"string\", \"location_zipcode\", \"string\"), (\"latitude\", \"string\", \"latitude\", \"string\"), (\"longitude\", \"string\", \"longitude\", \"string\"), (\"source\", \"string\", \"source\", \"string\"), (\"closure_reason_normalized\", \"string\", \"closure_reason_normalized\", \"string\"), (\"duration_hours\", \"double\", \"duration_hours\", \"double\"), (\"open_year\", \"int\", \"open_year\", \"int\"), (\"open_month\", \"int\", \"open_month\", \"int\")], transformation_ctx=\"ChangeSchema_node1729002886435\")\n",
        "\n",
        "# Script generated for node AWS Glue Data Catalog\n",
        "AWSGlueDataCatalog_node1729003470610 = glueContext.write_dynamic_frame.from_catalog(frame=ChangeSchema_node1729002886435, database=\"datalake-aws-boston\", table_name=\"silver\", additional_options={\"partitionKeys\": [\"open_year\", \"open_month\"]}, transformation_ctx=\"AWSGlueDataCatalog_node1729003470610\")\n",
        "\n",
        "job.commit()\n",
        "```"
      ]
    },
    {
      "cell_type": "markdown",
      "metadata": {},
      "source": [
        "Or, in the ETL visual, we have\n",
        "<p align=\"center\">\n",
        "    <img src=\"images/1.PNG\" alt=\"1\">\n",
        "    <img src=\"images/2.PNG\" alt=\"2\">\n",
        "</p>"
      ]
    },
    {
      "cell_type": "markdown",
      "metadata": {},
      "source": [
        "<a id=\"5\"></a>\n",
        "## <font color= #0cc754> 5. Data processing: Gold layer </font>"
      ]
    },
    {
      "cell_type": "markdown",
      "metadata": {},
      "source": [
        "We remember which columns we have in our dataframe"
      ]
    },
    {
      "cell_type": "code",
      "execution_count": 5,
      "metadata": {},
      "outputs": [
        {
          "data": {
            "text/plain": [
              "Index(['case_enquiry_id', 'open_dt', 'target_dt', 'closed_dt', 'ontime',\n",
              "       'case_status', 'closure_reason', 'case_title', 'subject', 'reason',\n",
              "       'type', 'queue', 'department', 'submittedphoto', 'closedphoto',\n",
              "       'location', 'fire_district', 'pwd_district', 'city_council_district',\n",
              "       'police_district', 'neighborhood', 'neighborhood_services_district',\n",
              "       'ward', 'precinct', 'location_street_name', 'location_zipcode',\n",
              "       'latitude', 'longitude', 'source'],\n",
              "      dtype='object')"
            ]
          },
          "execution_count": 5,
          "metadata": {},
          "output_type": "execute_result"
        }
      ],
      "source": [
        "dict_dfs['2015'].columns"
      ]
    },
    {
      "cell_type": "markdown",
      "metadata": {},
      "source": [
        "The planning for the s3 gold layer is stated here:\n",
        "\n",
        "| Column Name | data type |Transformation|\n",
        "|------|-------|--------|\n",
        "| open_dt  | string |tranform to timestamp |\n",
        "| closed_dt |string |tranform to timestamp |\n",
        "| target_dt   | string |transform to timestamp |\n",
        "|delay_days   | double | New column: closed_dt - target_dt|\n",
        "|city_council_district| string| Drop Column|\n",
        " |closedphoto|string|Drop Column|\n",
        " |department|string|Drop Column|\n",
        " |fire_district|string|Drop Column|\n",
        " |location|string|Drop Column|\n",
        " |neighborhood_services_district|string|Drop Column|\n",
        " |police_district|string|Drop Column|\n",
        " |precinct|string|Drop Column|\n",
        " |pwd_district|string|Drop Column|\n",
        " |queue|string|Drop Column|\n",
        " |submittedphoto|string|Drop Column|\n",
        " |type|string|Drop Column|\n",
        " |ward|string|Drop Column|\n"
      ]
    },
    {
      "cell_type": "markdown",
      "metadata": {},
      "source": [
        "After creating a s3 bucket for the gold layer, one needs to create a table. We provide the .json file for the schema for the gold layer table:"
      ]
    },
    {
      "cell_type": "markdown",
      "metadata": {},
      "source": [
        "```json\n",
        "[\n",
        "  {\n",
        "    \"Name\": \"case_enquiry_id\",\n",
        "    \"Type\": \"long\",\n",
        "    \"Comment\": \"Identificador único para cada caso de consulta\"\n",
        "  },\n",
        "  {\n",
        "    \"Name\": \"open_dt\",\n",
        "    \"Type\": \"timestamp\",\n",
        "    \"Comment\": \"Data e hora de abertura do caso\"\n",
        "  },\n",
        "  {\n",
        "    \"Name\": \"closed_dt\",\n",
        "    \"Type\": \"timestamp\",\n",
        "    \"Comment\": \"Data e hora de fechamento do caso\"\n",
        "  },\n",
        "  {\n",
        "    \"Name\": \"target_dt\",\n",
        "    \"Type\": \"timestamp\",\n",
        "    \"Comment\": \"Data e hora alvo do SLA\"\n",
        "  },\n",
        "  {\n",
        "    \"Name\": \"case_status\",\n",
        "    \"Type\": \"string\",\n",
        "    \"Comment\": \"Status do caso\"\n",
        "  },\n",
        "  {\n",
        "    \"Name\": \"ontime\",\n",
        "    \"Type\": \"string\",\n",
        "    \"Comment\": \"Indica se o caso foi resolvido dentro do tempo\"\n",
        "  },\n",
        "  {\n",
        "    \"Name\": \"closure_reason\",\n",
        "    \"Type\": \"string\",\n",
        "    \"Comment\": \"Razão para o fechamento do caso\"\n",
        "  },\n",
        "  {\n",
        "    \"Name\": \"case_title\",\n",
        "    \"Type\": \"string\",\n",
        "    \"Comment\": \"Título do caso\"\n",
        "  },\n",
        "  {\n",
        "    \"Name\": \"subject\",\n",
        "    \"Type\": \"string\",\n",
        "    \"Comment\": \"Assunto do caso\"\n",
        "  },\n",
        "  {\n",
        "    \"Name\": \"reason\",\n",
        "    \"Type\": \"string\",\n",
        "    \"Comment\": \"Razão do caso\"\n",
        "  },\n",
        "  {\n",
        "    \"Name\": \"neighborhood\",\n",
        "    \"Type\": \"string\",\n",
        "    \"Comment\": \"Bairro\"\n",
        "  },\n",
        "  {\n",
        "    \"Name\": \"location_street_name\",\n",
        "    \"Type\": \"string\",\n",
        "    \"Comment\": \"Nome da rua da localização\"\n",
        "  },\n",
        "  {\n",
        "    \"Name\": \"location_zipcode\",\n",
        "    \"Type\": \"integer\",\n",
        "    \"Comment\": \"CEP da localização\"\n",
        "  },\n",
        "  {\n",
        "    \"Name\": \"latitude\",\n",
        "    \"Type\": \"double\",\n",
        "    \"Comment\": \"Latitude da localização\"\n",
        "  },\n",
        "  {\n",
        "    \"Name\": \"longitude\",\n",
        "    \"Type\": \"double\",\n",
        "    \"Comment\": \"Longitude da localização\"\n",
        "  },\n",
        "  {\n",
        "    \"Name\": \"source\",\n",
        "    \"Type\": \"string\",\n",
        "    \"Comment\": \"Fonte do caso\"\n",
        "  },\n",
        "  {\n",
        "    \"Name\": \"delay_days\",\n",
        "    \"Type\": \"double\",\n",
        "    \"Comment\": \"Dias de atraso\"\n",
        "  }\n",
        "]\n",
        "```"
      ]
    },
    {
      "cell_type": "markdown",
      "metadata": {},
      "source": [
        "We can see how many entries we have on average in our dataset"
      ]
    },
    {
      "cell_type": "code",
      "execution_count": 10,
      "metadata": {},
      "outputs": [
        {
          "name": "stdout",
          "output_type": "stream",
          "text": [
            "Average number of rows is 242030.0\n"
          ]
        }
      ],
      "source": [
        "total_rows = sum(df.shape[0] for df in dict_dfs.values())\n",
        "average_size = total_rows / len(dict_dfs)\n",
        "print(f\"Average number of rows is {average_size}\")"
      ]
    },
    {
      "cell_type": "markdown",
      "metadata": {},
      "source": [
        "With this size we should consider using pyspark. Since we will be using AWS EMR, we need to create a spark script, made available in the `main.py`. We need to upload it into the s3 bucket called `datalake-boston-emr`"
      ]
    },
    {
      "cell_type": "code",
      "execution_count": 23,
      "metadata": {},
      "outputs": [
        {
          "name": "stdout",
          "output_type": "stream",
          "text": [
            "['aws-glue-assets-140023372298-us-east-1', 'datalake-boston-emr', 'project-bostondata']\n"
          ]
        }
      ],
      "source": [
        "# to see the list of buckets\n",
        "buckets = s3.list_buckets()\n",
        "print([bucket['Name'] for bucket in buckets['Buckets']])"
      ]
    },
    {
      "cell_type": "code",
      "execution_count": 5,
      "metadata": {},
      "outputs": [],
      "source": [
        "# we upload the main.py file to the bucket\n",
        "s3.upload_file('main.py', 'datalake-boston-emr', 'main.py')"
      ]
    },
    {
      "cell_type": "markdown",
      "metadata": {},
      "source": [
        "In case you need to see the name of your database and table names, you can start a boto3 client on glue and use the following code to see information regarding your database (changing the code where necessary)."
      ]
    },
    {
      "cell_type": "code",
      "execution_count": 25,
      "metadata": {},
      "outputs": [
        {
          "name": "stdout",
          "output_type": "stream",
          "text": [
            "Databases:\n",
            "- datalake-aws-boston\n",
            "\n",
            "Tables in database 'datalake-aws-boston':\n",
            "- bronzebronze\n",
            "- gold\n",
            "- silver\n",
            "\n",
            "Schema for table 'bronzebronze':\n",
            "- case_enquiry_id (bigint)\n",
            "- open_dt (string)\n",
            "- target_dt (string)\n",
            "- closed_dt (string)\n",
            "- ontime (string)\n",
            "- case_status (string)\n",
            "- closure_reason (string)\n",
            "- case_title (string)\n",
            "- subject (string)\n",
            "- reason (string)\n",
            "- type (string)\n",
            "- queue (string)\n",
            "- department (string)\n",
            "- submittedphoto (string)\n",
            "- closedphoto (string)\n",
            "- location (string)\n",
            "- fire_district (string)\n",
            "- pwd_district (string)\n",
            "- city_council_district (string)\n",
            "- police_district (string)\n",
            "- neighborhood (string)\n",
            "- neighborhood_services_district (string)\n",
            "- ward (string)\n",
            "- precinct (string)\n",
            "- location_street_name (string)\n",
            "- location_zipcode (double)\n",
            "- latitude (double)\n",
            "- longitude (double)\n",
            "- source (string)\n"
          ]
        }
      ],
      "source": [
        "# Initialize a Glue client\n",
        "glue = boto3.client('glue', \n",
        "                    aws_access_key_id=aws_access_key_id, \n",
        "                    aws_secret_access_key=aws_secret_access_key, \n",
        "                    region_name=region_name)\n",
        "\n",
        "# List databases\n",
        "databases = glue.get_databases()\n",
        "print(\"Databases:\")\n",
        "for db in databases['DatabaseList']:\n",
        "    print(f\"- {db['Name']}\")\n",
        "\n",
        "# List tables in a specific database\n",
        "database_name = 'datalake-aws-boston'  # Replace with your database name\n",
        "tables = glue.get_tables(DatabaseName=database_name)\n",
        "print(f\"\\nTables in database '{database_name}':\")\n",
        "for table in tables['TableList']:\n",
        "    print(f\"- {table['Name']}\")\n",
        "\n",
        "# Get schema for a specific table\n",
        "table_name = 'bronzebronze'  # Replace with your table name\n",
        "table = glue.get_table(DatabaseName=database_name, Name=table_name)\n",
        "print(f\"\\nSchema for table '{table_name}':\")\n",
        "for column in table['Table']['StorageDescriptor']['Columns']:\n",
        "    print(f\"- {column['Name']} ({column['Type']})\")"
      ]
    },
    {
      "cell_type": "markdown",
      "metadata": {},
      "source": [
        "Now, going to AWS EMR, we create a cluster and, after creating it, in the steps section we provide the location of our `main.py`.\n",
        "\n",
        "In the `Arguments - optional` section we need to pass `--database datalake-aws-boston --table_source bronzebronze --table_target gold`. This is in my case, the first is supposed to be the name of the database you created, the second is the table from the bronze layer ( I've made a slight mistake when creating it and made its name as bronzebronze) and finally the name of the target table, which I chose to be gold."
      ]
    },
    {
      "cell_type": "markdown",
      "metadata": {},
      "source": [
        "Now we can verify that the gold layer was indeed saved in our s3 bucket."
      ]
    },
    {
      "cell_type": "code",
      "execution_count": 29,
      "metadata": {},
      "outputs": [
        {
          "name": "stdout",
          "output_type": "stream",
          "text": [
            "Key: gold/, Size: 0 bytes, LastModified: 2024-10-15 21:32:31+00:00\n",
            "Key: gold/_SUCCESS, Size: 0 bytes, LastModified: 2024-10-18 01:04:02+00:00\n",
            "Key: gold/part-00000-f55ae4f1-f979-4409-be59-674f76e92e9f-c000.snappy.parquet, Size: 17694904 bytes, LastModified: 2024-10-18 01:04:02+00:00\n"
          ]
        }
      ],
      "source": [
        "# Specify the folder path within the bucket\n",
        "folder_path = \"gold/\"  # Replace with your folder path\n",
        "\n",
        "# List objects in the specified folder within the bucket\n",
        "response = s3.list_objects_v2(Bucket=bucket_name, Prefix=folder_path)\n",
        "\n",
        "# Print the keys of the objects in the folder\n",
        "if 'Contents' in response:\n",
        "    for obj in response['Contents']:\n",
        "        print(f\"Key: {obj['Key']}, Size: {obj['Size']} bytes, LastModified: {obj['LastModified']}\")\n",
        "else:\n",
        "    print(\"No objects found in the folder.\")"
      ]
    },
    {
      "cell_type": "markdown",
      "metadata": {},
      "source": [
        "<a id=\"6\"></a>\n",
        "## <font color= #0cc754> 6. Data insights and Dashboard with AWS QuickSight </font>\n"
      ]
    },
    {
      "cell_type": "markdown",
      "metadata": {},
      "source": [
        "We download our .snappy.parquet file created in the previous section into the local data folder and convert it into a .csv file. We do that to use QuickSight in the newly create .csv file."
      ]
    },
    {
      "cell_type": "code",
      "execution_count": 27,
      "metadata": {
        "vscode": {
          "languageId": "ruby"
        }
      },
      "outputs": [],
      "source": [
        "# Define the bucket name and the file key\n",
        "bucket_name = 'project-bostondata'\n",
        "file_key = 'gold/part-00000-f55ae4f1-f979-4409-be59-674f76e92e9f-c000.snappy.parquet'\n",
        "download_path = './data/BostonData.snappy.parquet'\n",
        "\n",
        "# Download the file\n",
        "s3.download_file(bucket_name, file_key, download_path)\n",
        "\n",
        "# Read the parquet file\n",
        "table = pq.read_table(download_path)\n",
        "\n",
        "# Remove the file, since we are not going to use it anymore\n",
        "os.remove(download_path)\n",
        "\n",
        "# Convert to pandas DataFrame\n",
        "df = table.to_pandas()\n",
        "\n",
        "# Save as CSV\n",
        "csv_path = download_path.replace('.snappy.parquet', '.csv')\n",
        "df.to_csv(csv_path, index=False)"
      ]
    }
  ],
  "metadata": {
    "colab": {
      "provenance": []
    },
    "kernelspec": {
      "display_name": "base",
      "language": "python",
      "name": "python3"
    },
    "language_info": {
      "codemirror_mode": {
        "name": "ipython",
        "version": 3
      },
      "file_extension": ".py",
      "mimetype": "text/x-python",
      "name": "python",
      "nbconvert_exporter": "python",
      "pygments_lexer": "ipython3",
      "version": "3.11.5"
    }
  },
  "nbformat": 4,
  "nbformat_minor": 0
}
